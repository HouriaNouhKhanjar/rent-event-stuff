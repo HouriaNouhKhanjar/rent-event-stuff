{
 "cells": [
  {
   "cell_type": "code",
   "execution_count": 4,
   "id": "51f80056-c511-4eb1-846a-c1a8b9829a05",
   "metadata": {},
   "outputs": [],
   "source": [
    "import json\n",
    "\n",
    "images = []\n",
    "with open('supply_images.json') as f:\n",
    "    images=json.load(f)\n"
   ]
  },
  {
   "cell_type": "code",
   "execution_count": 5,
   "id": "c87ba468-8c11-48a7-a581-2e049981bfab",
   "metadata": {},
   "outputs": [
    {
     "data": {
      "text/plain": [
       "930"
      ]
     },
     "execution_count": 5,
     "metadata": {},
     "output_type": "execute_result"
    }
   ],
   "source": [
    "len(images)"
   ]
  },
  {
   "cell_type": "code",
   "execution_count": 39,
   "id": "3aac832d-9093-4bac-8050-ca1ccb84dfbe",
   "metadata": {},
   "outputs": [
    {
     "name": "stdout",
     "output_type": "stream",
     "text": [
      "<Response [404]>\n"
     ]
    }
   ],
   "source": [
    "import requests\n",
    "\n",
    "for img in images[900:]:\n",
    "    name = f\"supply-image-{img['fields']['supply']}-{img['pk']}.jpg\"\n",
    "    with open(f\"images/{name}\", 'wb') as handle:\n",
    "        response = requests.get(img['fields']['image_url'], stream=True)\n",
    "    \n",
    "        if not response.ok:\n",
    "            print(response)\n",
    "    \n",
    "        for block in response.iter_content(1024):\n",
    "            if not block:\n",
    "                break\n",
    "    \n",
    "            handle.write(block)\n",
    "        img['fields']['image'] = name\n",
    "        "
   ]
  },
  {
   "cell_type": "code",
   "execution_count": 40,
   "id": "cc1d531f-d2b1-473f-981c-06e98dcbf6e9",
   "metadata": {},
   "outputs": [
    {
     "data": {
      "text/plain": [
       "{'pk': 1,\n",
       " 'model': 'supplies.supplyimage',\n",
       " 'fields': {'supply': 1,\n",
       "  'image_url': 'https://m.media-amazon.com/images/I/31SejUEWY7L._SS522_.jpg',\n",
       "  'image': 'supply-image-1-1.jpg'}}"
      ]
     },
     "execution_count": 40,
     "metadata": {},
     "output_type": "execute_result"
    }
   ],
   "source": [
    "images[0]"
   ]
  },
  {
   "cell_type": "code",
   "execution_count": 41,
   "id": "de4404c3-2005-4c26-bf9b-bced2004a33c",
   "metadata": {},
   "outputs": [],
   "source": [
    "with open('supply_images.json', 'w') as fout:\n",
    "    json.dump(images , fout)"
   ]
  },
  {
   "cell_type": "code",
   "execution_count": null,
   "id": "7afadace-eddf-4ddc-b254-c40abdfb8195",
   "metadata": {},
   "outputs": [],
   "source": []
  }
 ],
 "metadata": {
  "kernelspec": {
   "display_name": "Python 3 (ipykernel)",
   "language": "python",
   "name": "python3"
  },
  "language_info": {
   "codemirror_mode": {
    "name": "ipython",
    "version": 3
   },
   "file_extension": ".py",
   "mimetype": "text/x-python",
   "name": "python",
   "nbconvert_exporter": "python",
   "pygments_lexer": "ipython3",
   "version": "3.12.8"
  }
 },
 "nbformat": 4,
 "nbformat_minor": 5
}
