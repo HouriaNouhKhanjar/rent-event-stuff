{
 "cells": [
  {
   "cell_type": "code",
   "execution_count": 1,
   "id": "5bbeecf5-1126-48a8-8c51-64e8b4926832",
   "metadata": {},
   "outputs": [],
   "source": [
    "import pandas as pd"
   ]
  },
  {
   "cell_type": "code",
   "execution_count": 26,
   "id": "a25241ae-de8d-4f00-b03d-dabb2465e10e",
   "metadata": {},
   "outputs": [
    {
     "name": "stdout",
     "output_type": "stream",
     "text": [
      "Header: ['asin', 'url', 'title', 'brand', 'price', 'availability', 'categories', 'primary_image', 'images', 'upc', 'manufacturer', 'item_model_number', 'package_dimensions', 'date_first_available', 'country_of_origin', 'color', 'material', 'style', 'important_information', 'product_overview', 'about_item', 'description', 'specifications', 'uniq_id', 'scraped_at']\n",
      "First row: ['B0CJHKVG6P', 'https://www.amazon.com/dp/B0CJHKVG6P', 'GOYMFK 1pc Free Standing Shoe Rack, Multi-layer Metal Shoe Cap Rack With 8 Double Hooks For Living Room, Bathroom, Hallway', 'GOYMFK', '$24.99', 'Only 13 left in stock - order soon.', \"['Home & Kitchen', 'Storage & Organization', 'Clothing & Closet Storage', 'Shoe Organizers', 'Free Standing Shoe Racks']\", 'https://m.media-amazon.com/images/I/416WaLx10jL._SS522_.jpg', \"['https://m.media-amazon.com/images/I/416WaLx10jL._SS522_.jpg ', ' https://m.media-amazon.com/images/I/41kuxipTsuL._SS522_.jpg ', ' https://m.media-amazon.com/images/I/51T9x4yZd3L._SS522_.jpg ', ' https://m.media-amazon.com/images/I/61w6ifIrCpL._SS522_.jpg ', ' https://m.media-amazon.com/images/I/51bBQlUn8GL._SS522_.jpg']\", nan, 'GOYMFK', 'TK019', '2.36\"D x 7.87\"W x 21.6\"H', 'September 21, 2023', 'China', 'White', 'Metal', 'Modern', '[]', '[{\\'Brand\\': \\' GOYMFK \\'}, {\\'Color\\': \\' White \\'}, {\\'Material\\': \\' Metal \\'}, {\\'Recommended Uses For Product\\': \\' Coats, Umbrella, Hats, Shoes \\'}, {\\'Product Dimensions\\': \\' 2.36\"D x 7.87\"W x 21.6\"H \\'}]', \"['Multiple layers: Provides ample storage space for shoes, coats, hats, and other accessories ', ' Easy assembly: Requires no tools and can be assembled in minutes ', ' Versatile design: Suitable for various rooms in the home, such as the hallway, living room, or bathroom ', ' Sturdy and durable: Made of high-quality metal for long-lasting use ', ' Dimensions: 47.24 inches high x 11.81 inches wide x 13.78 inches deep']\", 'multiple shoes, coats, hats, and other items Easy to assemble: Includes all necessary hardware and instructions for easy assembly Versatile: Perfect for use in living rooms, bathrooms, hallways, and more', '[\\'Brand: GOYMFK\\', \\'Color: White\\', \\'Material: Metal\\', \\'Recommended Uses For Product: Coats, Umbrella, Hats, Shoes\\', \\'Product Dimensions: 2.36\"D x 7.87\"W x 21.6\"H\\', \\'Installation Type: Free Standing\\', \\'Special Feature: Stackable\\', \\'Style: Modern\\', \\'Finish Type: Coated\\', \\'Load Capacity: 44.1 Pounds\\', \\'Number of Shelves: 5\\', \\'Furniture Finish: Metal\\', \\'Frame Material: Metal\\', \\'Assembly Required: Yes\\', \\'Maximum Weight Recommendation: 20 Kilograms\\', \\'Manufacturer: GOYMFK\\', \\'Part Number: TK019\\', \\'Item Weight: 2.7 pounds\\', \\'Country of Origin: China\\', \\'Item model number: TK019\\', \\'Finish: Coated\\', \\'Special Features: Stackable\\', \\'Included Components: 1 x Assembly instructions\\', \\'Batteries Included?: No\\', \\'Batteries Required?: No\\', \\'Warranty Description: 1 year\\', \\'ASIN: B0CJHKVG6P\\', \\'Customer Reviews: 1.0  1.0 out of 5 stars    \\\\n    1 rating   \\\\n\\\\n\\\\n 1.0 out of 5 stars\\', \\'Best Sellers Rank: #569,353 in Home & Kitchen (See Top 100 in Home & Kitchen)  #1,051 in Free Standing Shoe Racks\\', \\'Date First Available: September 21, 2023\\']', '02593e81-5c09-5069-8516-b0b29f439ded', '2024-02-02 15:15:08']\n"
     ]
    }
   ],
   "source": [
    "df = pd.read_csv('furniture_amazon_dataset.csv')\n",
    "\n",
    "# Get header\n",
    "header = df.columns.tolist()\n",
    "\n",
    "# Get rows as list of dicts or list of lists\n",
    "rows = df.values.tolist()  # or df.to_dict(orient='records')\n",
    "\n",
    "print(\"Header:\", header)\n",
    "print(\"First row:\", rows[0])"
   ]
  },
  {
   "cell_type": "code",
   "execution_count": 27,
   "id": "304eaddf-e369-4421-a333-57539540fa85",
   "metadata": {},
   "outputs": [],
   "source": [
    "import ast\n",
    "def get_list_from_string(string_list):\n",
    "    items = ast.literal_eval(string_list)\n",
    "    return [n.strip() for n in items]\n",
    "    "
   ]
  },
  {
   "cell_type": "code",
   "execution_count": 28,
   "id": "5193706b-4a96-4060-b0e9-f120d429063f",
   "metadata": {},
   "outputs": [
    {
     "data": {
      "text/plain": [
       "{'Accent Furniture',\n",
       " 'Accessories',\n",
       " 'Adirondack Chairs',\n",
       " 'Baby Products',\n",
       " 'Bar & Serving Carts',\n",
       " 'Bar Cabinets',\n",
       " 'Bars & Wine Cabinets',\n",
       " 'Barstools',\n",
       " 'Bassinets',\n",
       " 'Bath',\n",
       " 'Bathroom Accessories',\n",
       " 'Bathroom Furniture',\n",
       " 'Bathroom Hardware',\n",
       " 'Bathroom Mirrors',\n",
       " 'Bathroom Sets',\n",
       " 'Bean Bags',\n",
       " 'Bean Bags, Covers & Refills',\n",
       " 'Beauty & Personal Care',\n",
       " 'Bed Frames',\n",
       " 'Bed Parts',\n",
       " 'Bedding',\n",
       " 'Bedroom Armoires',\n",
       " 'Bedroom Furniture',\n",
       " 'Beds',\n",
       " 'Beds, Frames & Bases',\n",
       " 'Bedside Cribs',\n",
       " 'Bookcases',\n",
       " 'Bookcases, Cabinets & Shelves',\n",
       " 'Boot & Shoe Boxes',\n",
       " 'Box Springs',\n",
       " 'Chairs',\n",
       " 'Chairs & Seats',\n",
       " 'Chairs & Sofas',\n",
       " 'Changing & Dressing',\n",
       " 'Chests & Dressers',\n",
       " 'Clothing & Closet Storage',\n",
       " 'Coat Racks',\n",
       " 'Coffee Tables',\n",
       " 'Computer Gaming Chairs',\n",
       " 'DVD Cases',\n",
       " 'Desk Chairs',\n",
       " 'Dining Room Furniture',\n",
       " 'Doormats',\n",
       " 'Dressers',\n",
       " 'Electronics',\n",
       " 'End Tables',\n",
       " 'Entryway Furniture',\n",
       " 'Filing Products',\n",
       " 'Folding Chairs',\n",
       " 'Folding Shoe Racks',\n",
       " 'Folding Tables',\n",
       " 'Folding Tables & Chairs',\n",
       " 'Free Standing Shoe Racks',\n",
       " 'Freestanding Wine Racks & Cabinets',\n",
       " 'Furniture',\n",
       " 'Game & Recreation Room Furniture',\n",
       " 'Gaming Chairs',\n",
       " 'Gliders, Ottomans & Rocking Chairs',\n",
       " 'Hampers',\n",
       " 'Hardware',\n",
       " 'Home & Kitchen',\n",
       " 'Home Audio',\n",
       " 'Home Bar Furniture',\n",
       " 'Home Décor Products',\n",
       " 'Home Office Chairs',\n",
       " 'Home Office Desk Chairs',\n",
       " 'Home Office Desks',\n",
       " 'Home Office Furniture',\n",
       " 'Infant & Toddler Beds',\n",
       " \"Kids' Furniture\",\n",
       " 'Kitchen & Dining',\n",
       " 'Kitchen Furniture',\n",
       " 'Ladder Shelves',\n",
       " 'Laundry Storage & Organization',\n",
       " 'Living Room Furniture',\n",
       " 'Living Room Sets',\n",
       " 'Makeup Mirrors',\n",
       " 'Managerial & Executive Chairs',\n",
       " 'Mattress Pads & Toppers',\n",
       " 'Mattress Toppers',\n",
       " 'Mattresses',\n",
       " 'Mattresses & Box Springs',\n",
       " 'Media Storage',\n",
       " 'Mirrors',\n",
       " 'Mobile Storage Islands',\n",
       " 'Nesting Tables',\n",
       " 'Nightstands',\n",
       " 'Nursery',\n",
       " 'Office & School Supplies',\n",
       " 'Office Furniture & Lighting',\n",
       " 'Office Products',\n",
       " 'Ottomans',\n",
       " 'Outdoor Décor',\n",
       " 'Over the Door Shoe Organizers',\n",
       " 'Over-the-Toilet Storage',\n",
       " 'Patio Furniture & Accessories',\n",
       " 'Patio Seating',\n",
       " 'Patio, Lawn & Garden',\n",
       " 'Pop-Up Laundry Hampers',\n",
       " 'Poufs',\n",
       " 'Racks & Holders',\n",
       " 'Recliner Parts',\n",
       " 'Replacement Parts',\n",
       " 'Shoe Cabinets',\n",
       " 'Shoe Organizers',\n",
       " 'Shoe Slots',\n",
       " 'Shower Mirrors',\n",
       " 'Sofa & Console Tables',\n",
       " 'Sofa Parts',\n",
       " 'Sofas',\n",
       " 'Sofas & Couches',\n",
       " 'Step Stools',\n",
       " 'Storage & Organization',\n",
       " 'Storage Benches',\n",
       " 'Storage Cabinets',\n",
       " 'Storage Carts',\n",
       " 'Storage Islands & Carts',\n",
       " 'Storage Trunks',\n",
       " 'Storage Trunks & Chests',\n",
       " 'Supply Organizers',\n",
       " 'TV & Media Furniture',\n",
       " 'TV Mounts, Stands & Turntables',\n",
       " 'TV Trays',\n",
       " 'TV Wall & Ceiling Mounts',\n",
       " 'Table & Chair Sets',\n",
       " 'Table Benches',\n",
       " 'Tables',\n",
       " 'Tables & Chairs',\n",
       " 'Television & Video',\n",
       " 'Tools & Accessories',\n",
       " 'Tools & Home Improvement',\n",
       " 'Towel Bars',\n",
       " 'Towel Holders',\n",
       " 'Towel Racks',\n",
       " 'Towel Rings',\n",
       " 'Toy Bags & Nets',\n",
       " 'Toy Chests & Organizers',\n",
       " 'Trash, Recycling & Compost',\n",
       " 'Turntables',\n",
       " 'Turntables & Accessories',\n",
       " 'Vanities & Vanity Benches',\n",
       " 'Video Game Chairs',\n",
       " 'Wall-Mounted Mirrors',\n",
       " 'Wall-Mounted Vanity Mirrors',\n",
       " 'Wall-Mounted Wine Racks',\n",
       " 'Wastebaskets',\n",
       " 'Wine Cabinets',\n",
       " 'Wine Racks & Cabinets'}"
      ]
     },
     "execution_count": 28,
     "metadata": {},
     "output_type": "execute_result"
    }
   ],
   "source": [
    "categories_from_data = []\n",
    "for row in rows:\n",
    "    categories_from_data.extend(get_list_from_string(row[6]))\n",
    "set(categories_from_data)"
   ]
  },
  {
   "cell_type": "code",
   "execution_count": 29,
   "id": "e6ce66b5-b3af-4207-ad12-c05a49de3d17",
   "metadata": {},
   "outputs": [
    {
     "data": {
      "text/plain": [
       "[{'pk': 1, 'name': 'Event Appropriate Furniture'},\n",
       " {'pk': 2, 'name': 'Chairs'},\n",
       " {'pk': 3, 'name': 'Chairs & Sofas'},\n",
       " {'pk': 4, 'name': 'Folding Chairs'},\n",
       " {'pk': 5, 'name': 'Folding Tables'},\n",
       " {'pk': 6, 'name': 'Folding Tables & Chairs'},\n",
       " {'pk': 7, 'name': 'Ottomans'},\n",
       " {'pk': 8, 'name': 'Poufs'},\n",
       " {'pk': 9, 'name': 'Sofas & Couches'},\n",
       " {'pk': 10, 'name': 'Table & Chair Sets'},\n",
       " {'pk': 11, 'name': 'Tables'},\n",
       " {'pk': 12, 'name': 'Tables & Chairs'},\n",
       " {'pk': 13, 'name': 'Nesting Tables'},\n",
       " {'pk': 14, 'name': 'TV Trays'},\n",
       " {'pk': 15, 'name': 'Outdoor & Patio'},\n",
       " {'pk': 16, 'name': 'Patio Furniture & Accessories'},\n",
       " {'pk': 17, 'name': 'Patio Seating'},\n",
       " {'pk': 18, 'name': 'Bar & Entertainment'},\n",
       " {'pk': 19, 'name': 'Bar & Serving Carts'},\n",
       " {'pk': 20, 'name': 'Bars & Wine Cabinets'},\n",
       " {'pk': 21, 'name': 'Freestanding Wine Racks & Cabinets'},\n",
       " {'pk': 22, 'name': 'Wine Cabinets'},\n",
       " {'pk': 23, 'name': 'Wine Racks & Cabinets'},\n",
       " {'pk': 24, 'name': 'Bar Cabinets'},\n",
       " {'pk': 25, 'name': 'Barstools'},\n",
       " {'pk': 26, 'name': 'Décor & Accessories'},\n",
       " {'pk': 27, 'name': 'Makeup Mirrors'},\n",
       " {'pk': 28, 'name': 'Vanities & Vanity Benches'},\n",
       " {'pk': 29, 'name': 'Wall-Mounted Mirrors'},\n",
       " {'pk': 30, 'name': 'Wall-Mounted Vanity Mirrors'},\n",
       " {'pk': 31, 'name': 'Storage & Utility'},\n",
       " {'pk': 32, 'name': 'Storage Carts'},\n",
       " {'pk': 33, 'name': 'Storage Trunks & Chests'},\n",
       " {'pk': 34, 'name': 'Storage Cabinets'}]"
      ]
     },
     "execution_count": 29,
     "metadata": {},
     "output_type": "execute_result"
    }
   ],
   "source": [
    "import json\n",
    "\n",
    "# Open the JSON file\n",
    "with open('categories.json', encoding='utf-8') as f:\n",
    "    categories = json.load(f)\n",
    "\n",
    "categories_dict_list = [{'pk': x['pk'], 'name': x['fields']['name']} for x in categories]\n",
    "categories_dict_list"
   ]
  },
  {
   "cell_type": "code",
   "execution_count": 30,
   "id": "1e8e430a-862e-4c4e-ac5b-f598bc9647fa",
   "metadata": {},
   "outputs": [],
   "source": [
    "import re\n",
    "def get_clean_string(phrase):\n",
    "    if type(phrase) is str:\n",
    "        # Step 1: Remove escape characters (like \\' and \\\")\n",
    "        cleaned_string = re.sub(r\"[\\\\\\'\\\"][\\\\\\'\\\"]\", \"\", phrase)\n",
    "        \n",
    "        # Step 2: Remove unwanted characters (like 【, 】, etc.)\n",
    "        cleaned_string = re.sub(r\"[【】]\", \"\", cleaned_string)\n",
    "        \n",
    "        # Step 3: Remove leading and trailing spaces, if any\n",
    "        cleaned_string = cleaned_string.strip()\n",
    "        \n",
    "        # Step 4: Remove extra spaces between words (if needed)\n",
    "        cleaned_string = re.sub(r'\\s+', ' ', cleaned_string)\n",
    "\n",
    "        cleaned_string = cleaned_string.replace(\"'\", \"\").replace(\"[\", \"\").replace(\"]\", \"\")\n",
    "        \n",
    "        return cleaned_string\n",
    "        \n",
    "    return ''\n"
   ]
  },
  {
   "cell_type": "code",
   "execution_count": 31,
   "id": "7984c295-1052-4e28-a8ef-2ca99d5c8823",
   "metadata": {},
   "outputs": [],
   "source": [
    "def get_category(categories_string, categories_dec):\n",
    "    categories_list = get_list_from_string(categories_string)\n",
    "    return [ d for d in categories_dec if d['name'] in categories_list ]"
   ]
  },
  {
   "cell_type": "code",
   "execution_count": 37,
   "id": "1df5430f-1615-4b47-a4bb-7db198956acb",
   "metadata": {},
   "outputs": [
    {
     "name": "stdout",
     "output_type": "stream",
     "text": [
      "143\n",
      "930\n"
     ]
    }
   ],
   "source": [
    "import random\n",
    "\n",
    "supplies = []\n",
    "supply_images = []\n",
    "quantities = [15, 20, 40, 50, 100, 150, 200, 300]\n",
    "pk = 1\n",
    "images_pk = 1\n",
    "for row in rows:\n",
    "    item_categories = get_category(row[6],categories_dict_list)\n",
    "    category = item_categories[0]['pk'] if len(item_categories) else None \n",
    "    if category is not None:\n",
    "        price =  int(float(row[4].replace('$',''))) * 20 / 100 if type(row[4]) is str else 10 \n",
    "        description = get_clean_string(row[20])\n",
    "        supplies.append({'pk' : pk, \n",
    "                         \"model\": \"supplies.supply\",\n",
    "                         \"fields\": {\n",
    "                             'name': row[2],\n",
    "                             'sku': row[0],\n",
    "                             'category': category,\n",
    "                             'description': description,\n",
    "                             'quantity_available': random.choice(quantities),\n",
    "                             'price_per_day': price\n",
    "                         }\n",
    "                        })\n",
    "        images_list = get_list_from_string(row[8])\n",
    "        for image in images_list:\n",
    "            supply_images.append({ 'pk': images_pk,\n",
    "                                   \"model\": \"supplies.supplyimage\",\n",
    "                                   \"fields\": {\n",
    "                                       'supply': pk,\n",
    "                                       'image_url': image\n",
    "                                   }\n",
    "                                 })\n",
    "            images_pk += 1\n",
    "                                   \n",
    "                                   \n",
    "        pk += 1\n",
    "                         \n",
    "\n",
    "print(len(supplies))\n",
    "print(len(supply_images))"
   ]
  },
  {
   "cell_type": "code",
   "execution_count": 38,
   "id": "cc327d14-3678-4052-a8c2-2a0553468698",
   "metadata": {},
   "outputs": [
    {
     "data": {
      "text/plain": [
       "{'pk': 1,\n",
       " 'model': 'supplies.supply',\n",
       " 'fields': {'name': 'subrtex Leather ding Room, Dining Chairs Set of 2, Black',\n",
       "  'sku': 'B0B66QHB23',\n",
       "  'category': 2,\n",
       "  'description': 'Easy Assembly: Set of 2 dining room chairs. To make it easier for you to install our chairs, we have included tools and instructions in the package and added an installation video to the webpage. It will make the whole installation process easier and quicker(Estimated time 10-20 minutes). ,  Waterproof Leather Fabric: subrtex upholstered dinging room chair is made of premium pu leather, waterproof, breathable, skin-friendly and easy to clean when it gets water or dirty. ,  Black Rubber Wood Legs: Hold up to 265 LBS. Anti-slip padded feet design that can prevent the floor from scratching. Tips: The solid wooden legs can not be replaced individually, if you encounter problems with the legs, you can contact us to replace a new dining chair. ,  Ergonomic Backrest Design: Ergonomically designed chair back, effectively protecting your waist and back.sitting for a long time without fatigue. The simple backrest decoration fits perfectly into any kitchen, dining room decor. ,  Customer Services: One year warranty, if you have any quality or installation problems with the components of this dining room chair you can contact us, we will definitely give you a satisfactory solution, it will be a good choice!',\n",
       "  'quantity_available': 150,\n",
       "  'price_per_day': 10}}"
      ]
     },
     "execution_count": 38,
     "metadata": {},
     "output_type": "execute_result"
    }
   ],
   "source": [
    "supplies[0]"
   ]
  },
  {
   "cell_type": "code",
   "execution_count": 39,
   "id": "cf3c8b46-395c-4c76-b372-a4a8b4078c52",
   "metadata": {},
   "outputs": [
    {
     "data": {
      "text/plain": [
       "[{'pk': 1,\n",
       "  'model': 'supplies.supplyimage',\n",
       "  'fields': {'supply': 1,\n",
       "   'image_url': 'https://m.media-amazon.com/images/I/31SejUEWY7L._SS522_.jpg'}},\n",
       " {'pk': 2,\n",
       "  'model': 'supplies.supplyimage',\n",
       "  'fields': {'supply': 1,\n",
       "   'image_url': 'https://m.media-amazon.com/images/I/41mr+A9JmbL._SS522_.jpg'}},\n",
       " {'pk': 3,\n",
       "  'model': 'supplies.supplyimage',\n",
       "  'fields': {'supply': 1,\n",
       "   'image_url': 'https://m.media-amazon.com/images/I/41JjrWgA0XL._SS522_.jpg'}},\n",
       " {'pk': 4,\n",
       "  'model': 'supplies.supplyimage',\n",
       "  'fields': {'supply': 1,\n",
       "   'image_url': 'https://m.media-amazon.com/images/I/41ie5FbnfkL._SS522_.jpg'}},\n",
       " {'pk': 5,\n",
       "  'model': 'supplies.supplyimage',\n",
       "  'fields': {'supply': 1,\n",
       "   'image_url': 'https://m.media-amazon.com/images/I/41EDoJzFehL._SS522_.jpg'}}]"
      ]
     },
     "execution_count": 39,
     "metadata": {},
     "output_type": "execute_result"
    }
   ],
   "source": [
    "supply_images[0:5]"
   ]
  },
  {
   "cell_type": "code",
   "execution_count": 40,
   "id": "2141a9b3-37df-4600-96a6-f96ae0b5b0ff",
   "metadata": {},
   "outputs": [],
   "source": [
    "with open('supplies.json', 'w') as fout:\n",
    "    json.dump(supplies , fout)"
   ]
  },
  {
   "cell_type": "code",
   "execution_count": 42,
   "id": "86aa5ca3-0d07-4615-bc8d-f23d9c884f32",
   "metadata": {},
   "outputs": [],
   "source": [
    "with open('supply_images.json', 'w') as fout:\n",
    "    json.dump(supply_images , fout)"
   ]
  },
  {
   "cell_type": "code",
   "execution_count": null,
   "id": "162a11a8-9022-4e6d-b2df-58477970e291",
   "metadata": {},
   "outputs": [],
   "source": []
  }
 ],
 "metadata": {
  "kernelspec": {
   "display_name": "Python 3 (ipykernel)",
   "language": "python",
   "name": "python3"
  },
  "language_info": {
   "codemirror_mode": {
    "name": "ipython",
    "version": 3
   },
   "file_extension": ".py",
   "mimetype": "text/x-python",
   "name": "python",
   "nbconvert_exporter": "python",
   "pygments_lexer": "ipython3",
   "version": "3.12.8"
  }
 },
 "nbformat": 4,
 "nbformat_minor": 5
}
