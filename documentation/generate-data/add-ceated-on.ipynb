{
 "cells": [
  {
   "cell_type": "code",
   "execution_count": 1,
   "id": "d41006d4-ef3d-45a7-96e3-812c1ca9707d",
   "metadata": {},
   "outputs": [],
   "source": [
    "import json\n",
    "\n",
    "categories = []\n",
    "with open('categories.json') as f:\n",
    "    categories=json.load(f)"
   ]
  },
  {
   "cell_type": "code",
   "execution_count": 11,
   "id": "13689e00-1ecd-4181-bb0b-766b6c064db6",
   "metadata": {},
   "outputs": [],
   "source": [
    "from datetime import datetime\n",
    "for category in categories:\n",
    "    del category['created_on']\n",
    "    category['fields']['created_on'] = datetime.now().strftime(\"%Y-%m-%d %H:%M:%S\")"
   ]
  },
  {
   "cell_type": "code",
   "execution_count": 12,
   "id": "93d15b5f-4865-441c-a22c-992eeae15ca9",
   "metadata": {},
   "outputs": [
    {
     "data": {
      "text/plain": [
       "{'pk': 1,\n",
       " 'model': 'supplies.category',\n",
       " 'fields': {'name': 'Event Appropriate Furniture',\n",
       "  'slug': 'event-appropriate-furniture',\n",
       "  'parent': None,\n",
       "  'created_on': '2025-07-13 20:42:15'}}"
      ]
     },
     "execution_count": 12,
     "metadata": {},
     "output_type": "execute_result"
    }
   ],
   "source": [
    "categories[0]"
   ]
  },
  {
   "cell_type": "code",
   "execution_count": 13,
   "id": "291d7eef-5538-4273-98fe-393076468484",
   "metadata": {},
   "outputs": [],
   "source": [
    "with open('categories.json', 'w') as fout:\n",
    "    json.dump(categories , fout)"
   ]
  },
  {
   "cell_type": "code",
   "execution_count": 16,
   "id": "bb742dc3-7458-4e07-98f8-5b1ca57009ee",
   "metadata": {},
   "outputs": [],
   "source": [
    "supplies = []\n",
    "with open('supplies.json', encoding='utf-8') as f:\n",
    "    supplies=json.load(f)"
   ]
  },
  {
   "cell_type": "code",
   "execution_count": 17,
   "id": "82ab7fdc-3689-46a4-899d-a71fa87764e6",
   "metadata": {},
   "outputs": [],
   "source": [
    "for supply in supplies:\n",
    "    supply['fields']['created_on'] = datetime.now().strftime(\"%Y-%m-%d %H:%M:%S\")"
   ]
  },
  {
   "cell_type": "code",
   "execution_count": 18,
   "id": "ff021dbf-f22c-4c4a-94aa-d79caccb20ed",
   "metadata": {},
   "outputs": [
    {
     "data": {
      "text/plain": [
       "{'pk': 1,\n",
       " 'model': 'supplies.supply',\n",
       " 'fields': {'name': 'subrtex Leather ding Room, Dining Chairs Set of 2, Black',\n",
       "  'sku': 'B0B66QHB23',\n",
       "  'category': 2,\n",
       "  'description': 'Easy Assembly: Set of 2 dining room chairs. To make it easier for you to install our chairs, we have included tools and instructions in the package and added an installation video to the webpage. It will make the whole installation process easier and quicker(Estimated time 10-20 minutes). ,  Waterproof Leather Fabric: subrtex upholstered dinging room chair is made of premium pu leather, waterproof, breathable, skin-friendly and easy to clean when it gets water or dirty. ,  Black Rubber Wood Legs: Hold up to 265 LBS. Anti-slip padded feet design that can prevent the floor from scratching. Tips: The solid wooden legs can not be replaced individually, if you encounter problems with the legs, you can contact us to replace a new dining chair. ,  Ergonomic Backrest Design: Ergonomically designed chair back, effectively protecting your waist and back.sitting for a long time without fatigue. The simple backrest decoration fits perfectly into any kitchen, dining room decor. ,  Customer Services: One year warranty, if you have any quality or installation problems with the components of this dining room chair you can contact us, we will definitely give you a satisfactory solution, it will be a good choice!',\n",
       "  'quantity_available': 150,\n",
       "  'price_per_day': 10,\n",
       "  'created_on': '2025-07-13 20:49:03'}}"
      ]
     },
     "execution_count": 18,
     "metadata": {},
     "output_type": "execute_result"
    }
   ],
   "source": [
    "supplies[0]"
   ]
  },
  {
   "cell_type": "code",
   "execution_count": 19,
   "id": "816ed2a7-c10c-4192-93c3-ff6dbf73d50d",
   "metadata": {},
   "outputs": [],
   "source": [
    "with open('supplies.json', 'w', encoding='utf-8') as fout:\n",
    "    json.dump(supplies , fout)"
   ]
  },
  {
   "cell_type": "code",
   "execution_count": 21,
   "id": "b2d2804b-174c-4c42-a7e5-8814ee51c8a0",
   "metadata": {},
   "outputs": [],
   "source": [
    "supply_images = []\n",
    "with open('supply_images.json', encoding='utf-8') as f:\n",
    "    supply_images=json.load(f)"
   ]
  },
  {
   "cell_type": "code",
   "execution_count": 22,
   "id": "4ed1767a-7b6f-4d4a-a99e-cf9a609fead5",
   "metadata": {},
   "outputs": [],
   "source": [
    "for image in supply_images:\n",
    "    image['fields']['created_on'] = datetime.now().strftime(\"%Y-%m-%d %H:%M:%S\")"
   ]
  },
  {
   "cell_type": "code",
   "execution_count": 23,
   "id": "fd461215-3328-437c-bbd0-b82b844847bd",
   "metadata": {},
   "outputs": [
    {
     "data": {
      "text/plain": [
       "{'pk': 1,\n",
       " 'model': 'supplies.supplyimage',\n",
       " 'fields': {'supply': 1,\n",
       "  'image_url': 'https://m.media-amazon.com/images/I/31SejUEWY7L._SS522_.jpg',\n",
       "  'image': 'supply-image-1-1.jpg',\n",
       "  'created_on': '2025-07-13 20:53:37'}}"
      ]
     },
     "execution_count": 23,
     "metadata": {},
     "output_type": "execute_result"
    }
   ],
   "source": [
    "supply_images[0]"
   ]
  },
  {
   "cell_type": "code",
   "execution_count": 24,
   "id": "c236e8fd-0979-4b09-baf0-8bd4d3cce3d9",
   "metadata": {},
   "outputs": [],
   "source": [
    "with open('supply_images.json', 'w', encoding='utf-8') as fout:\n",
    "    json.dump(supply_images , fout)"
   ]
  },
  {
   "cell_type": "code",
   "execution_count": null,
   "id": "cc0d5e66-ac96-4fec-b80f-a4ac40cc6703",
   "metadata": {},
   "outputs": [],
   "source": []
  }
 ],
 "metadata": {
  "kernelspec": {
   "display_name": "Python 3 (ipykernel)",
   "language": "python",
   "name": "python3"
  },
  "language_info": {
   "codemirror_mode": {
    "name": "ipython",
    "version": 3
   },
   "file_extension": ".py",
   "mimetype": "text/x-python",
   "name": "python",
   "nbconvert_exporter": "python",
   "pygments_lexer": "ipython3",
   "version": "3.12.8"
  }
 },
 "nbformat": 4,
 "nbformat_minor": 5
}
